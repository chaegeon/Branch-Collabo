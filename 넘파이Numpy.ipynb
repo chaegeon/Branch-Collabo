{
  "nbformat": 4,
  "nbformat_minor": 0,
  "metadata": {
    "colab": {
      "name": "넘파이Numpy.ipynb",
      "provenance": [],
      "collapsed_sections": [],
      "toc_visible": true,
      "authorship_tag": "ABX9TyO4DusC7CxWSFDmbs3sT3XF",
      "include_colab_link": true
    },
    "kernelspec": {
      "name": "python3",
      "display_name": "Python 3"
    },
    "language_info": {
      "name": "python"
    }
  },
  "cells": [
    {
      "cell_type": "markdown",
      "metadata": {
        "id": "view-in-github",
        "colab_type": "text"
      },
      "source": [
        "<a href=\"https://colab.research.google.com/github/chaegeon/Branch-Collabo/blob/main/%EB%84%98%ED%8C%8C%EC%9D%B4Numpy.ipynb\" target=\"_parent\"><img src=\"https://colab.research.google.com/assets/colab-badge.svg\" alt=\"Open In Colab\"/></a>"
      ]
    },
    {
      "cell_type": "markdown",
      "source": [
        "# 필수 라이브러리\n",
        "- numpy 넘파이\n",
        "- pandas 판다스\n",
        "- matplotlib"
      ],
      "metadata": {
        "id": "XbNnwDTysac2"
      }
    },
    {
      "cell_type": "markdown",
      "source": [
        "## numpy\n",
        "- 교재 : '파이썬 철저입문' - p.214\n",
        "- 수치해석용으로 만들어진 모듈이라고 보면 됨\n",
        "  - 수치해석용이라, 따로 머신러닝과 같은 데이터분석을 위해서 만들어진 건 아니다.\n",
        "  - 보통 연구실에서 많이 사용됨. 분야 막론\n",
        "  - 특히 머신러닝, 딥러닝 분야에서 많이 사용\n",
        "  - 판다스도 자료의 기본 타입은 numpy를 사용하기 때문에 알아두면 좋음\n",
        "- 수학적 계산을 돕기 위해 만들어진 라이브러리\n"
      ],
      "metadata": {
        "id": "kkOEAtFesY1o"
      }
    },
    {
      "cell_type": "code",
      "source": [
        "# 보통 배열을 생성할 때 이렇게 생성함  ' np '\n",
        "# numpy는 일반전으로 np로 줄어서 사용\n",
        "import numpy as np"
      ],
      "metadata": {
        "id": "PSd31_1HtvUo"
      },
      "execution_count": null,
      "outputs": []
    },
    {
      "cell_type": "markdown",
      "source": [
        "## 넘파이에서 지원하는 타입\n",
        "1. array(배열)\n",
        "  - 주로 통계분석이나, ML/DL에서 사용하는 타입\n",
        "  - 배열이라고 부름\n",
        "  - 파이썬의 리스트와는 다름 -> 그래서 배열이라고 부름\n",
        "\n",
        "2. matrix\n",
        "  - 수학적 계산이 필요한 경우에 많이 사용\n",
        "  - 수업시간에는 사용하지 않는다\n"
      ],
      "metadata": {
        "id": "9lWmywD5s3Mi"
      }
    },
    {
      "cell_type": "markdown",
      "source": [
        "### 배열의 기본속성\n",
        "- ndim 엔디멘셔널\n",
        "  - 배열의 차원을 나타내는 속성\n",
        "- shape 셰입 \n",
        "  - 배열의 크기를 나타내고, 배열의 크기는 원소의 개수와 동일\n",
        "  - 1차원 배열인 경우 행이 1, 열이 n인 배열을 의미한다.\n",
        "  - 배열의 모양은 튜플로 표현이 된다\n",
        "  \n"
      ],
      "metadata": {
        "id": "SznpBtTAuojQ"
      }
    },
    {
      "cell_type": "markdown",
      "source": [
        "#### 1차원 배열\n",
        "- 파이썬의 리스트와 거의 동일\n"
      ],
      "metadata": {
        "id": "LdaRdxISu_9R"
      }
    },
    {
      "cell_type": "code",
      "source": [
        "# 리스트를 원소로 하는 배열객체 정도로 이해\n",
        "arr1D = np.array([1, 2, 3, 4])\n",
        "arr1D"
      ],
      "metadata": {
        "colab": {
          "base_uri": "https://localhost:8080/"
        },
        "id": "gGGWlX4xtzxu",
        "outputId": "83934e1b-c78b-4b8b-82d9-f228b61a2de0"
      },
      "execution_count": null,
      "outputs": [
        {
          "output_type": "execute_result",
          "data": {
            "text/plain": [
              "array([1, 2, 3, 4])"
            ]
          },
          "metadata": {},
          "execution_count": 8
        }
      ]
    },
    {
      "cell_type": "code",
      "source": [
        "#배열의 차원을 확인하는 법\n"
      ],
      "metadata": {
        "id": "LnGD1NUMvKnB"
      },
      "execution_count": null,
      "outputs": []
    },
    {
      "cell_type": "code",
      "source": [
        "arr1D.ndim"
      ],
      "metadata": {
        "colab": {
          "base_uri": "https://localhost:8080/"
        },
        "id": "BCEENNZav779",
        "outputId": "e3dc4d3c-4837-4f5c-9c4f-9db15772ada6"
      },
      "execution_count": null,
      "outputs": [
        {
          "output_type": "execute_result",
          "data": {
            "text/plain": [
              "1"
            ]
          },
          "metadata": {},
          "execution_count": 4
        }
      ]
    },
    {
      "cell_type": "code",
      "source": [
        "# 1차원이라 행은 없고 열의 개수만 나온 것\n",
        "arr1D.shape"
      ],
      "metadata": {
        "colab": {
          "base_uri": "https://localhost:8080/"
        },
        "id": "MGTGhJDxv9yQ",
        "outputId": "2eb7f204-cc8a-4477-aa76-0edc7c6b9599"
      },
      "execution_count": null,
      "outputs": [
        {
          "output_type": "execute_result",
          "data": {
            "text/plain": [
              "(4,)"
            ]
          },
          "metadata": {},
          "execution_count": 6
        }
      ]
    },
    {
      "cell_type": "code",
      "source": [
        "arr2D = np.array([[1,2,3], [4,5,6], [7, 8, 9] ])\n",
        "arr2D.ndim"
      ],
      "metadata": {
        "colab": {
          "base_uri": "https://localhost:8080/"
        },
        "id": "yZWIwyLywKGc",
        "outputId": "93dd185c-7dc8-403f-dae2-995d9bbfebd3"
      },
      "execution_count": null,
      "outputs": [
        {
          "output_type": "execute_result",
          "data": {
            "text/plain": [
              "2"
            ]
          },
          "metadata": {},
          "execution_count": 21
        }
      ]
    },
    {
      "cell_type": "code",
      "source": [
        "# (행, 열)\n",
        "# 행은 자료의 갯수, 열은 변수의 갯수를 의미\n",
        "arr2D.shape"
      ],
      "metadata": {
        "colab": {
          "base_uri": "https://localhost:8080/"
        },
        "id": "RFlAsebJwAN8",
        "outputId": "07fd49c1-d706-48d9-8561-6a563d3ff4fd"
      },
      "execution_count": null,
      "outputs": [
        {
          "output_type": "execute_result",
          "data": {
            "text/plain": [
              "(3, 3)"
            ]
          },
          "metadata": {},
          "execution_count": 22
        }
      ]
    },
    {
      "cell_type": "code",
      "source": [
        ""
      ],
      "metadata": {
        "id": "Fc0492SKw6Mf"
      },
      "execution_count": null,
      "outputs": []
    },
    {
      "cell_type": "markdown",
      "source": [
        "# 배열의 특징\n",
        "-  **인덱싱, 슬라이싱**\n",
        "- 팬시 인덱싱\n",
        "- 배열의 타입\n",
        "- 넘파이에서만 정의되는 특별한 타입"
      ],
      "metadata": {
        "id": "POz0BNAoxhuB"
      }
    },
    {
      "cell_type": "markdown",
      "source": [
        "## 배열의 인덱싱과 슬라이싱\n",
        "- 리스트와 비슷한데, 표현이 다름\n",
        "- 기본적으로 개념은 리스트와 동일\n",
        "- 나중에 판다스나 넘어가도 동일하게 사용됨(?)"
      ],
      "metadata": {
        "id": "jFpnGkdkxxIc"
      }
    },
    {
      "cell_type": "code",
      "source": [
        "# print를 쓰면 리스트처럼 나와서 헷갈리니까 display사용\n",
        "print( arr1D)\n",
        "display( arr1D )"
      ],
      "metadata": {
        "colab": {
          "base_uri": "https://localhost:8080/",
          "height": 52
        },
        "id": "VDSimE2DzJvo",
        "outputId": "3a67b575-8e62-4bbc-9eb1-de1a19faff7c"
      },
      "execution_count": null,
      "outputs": [
        {
          "output_type": "stream",
          "name": "stdout",
          "text": [
            "[1 2 3 4]\n"
          ]
        },
        {
          "output_type": "display_data",
          "data": {
            "text/plain": [
              "array([1, 2, 3, 4])"
            ]
          },
          "metadata": {}
        }
      ]
    },
    {
      "cell_type": "code",
      "source": [
        "\n",
        "display( arr1D )\n",
        "display( arr1D[0])\n",
        "display( arr1D[1])\n",
        "display( arr1D[-1])\n",
        "#out of bound error 주의\n",
        "# 리스트에서는 아웃 오브 뭐였지 범위 넘어간 것 같은데\n",
        "display( arr1D[4])"
      ],
      "metadata": {
        "colab": {
          "base_uri": "https://localhost:8080/",
          "height": 272
        },
        "id": "sb0u4GcLx4fQ",
        "outputId": "61631015-b1e8-4a4f-e313-c047b9e855e9"
      },
      "execution_count": null,
      "outputs": [
        {
          "output_type": "display_data",
          "data": {
            "text/plain": [
              "array([1, 2, 3, 4])"
            ]
          },
          "metadata": {}
        },
        {
          "output_type": "display_data",
          "data": {
            "text/plain": [
              "1"
            ]
          },
          "metadata": {}
        },
        {
          "output_type": "display_data",
          "data": {
            "text/plain": [
              "2"
            ]
          },
          "metadata": {}
        },
        {
          "output_type": "display_data",
          "data": {
            "text/plain": [
              "4"
            ]
          },
          "metadata": {}
        },
        {
          "output_type": "error",
          "ename": "IndexError",
          "evalue": "ignored",
          "traceback": [
            "\u001b[0;31m---------------------------------------------------------------------------\u001b[0m",
            "\u001b[0;31mIndexError\u001b[0m                                Traceback (most recent call last)",
            "\u001b[0;32m<ipython-input-60-53eda374e375>\u001b[0m in \u001b[0;36m<module>\u001b[0;34m()\u001b[0m\n\u001b[1;32m      6\u001b[0m \u001b[0;31m#out of bound error 주의\u001b[0m\u001b[0;34m\u001b[0m\u001b[0;34m\u001b[0m\u001b[0;34m\u001b[0m\u001b[0m\n\u001b[1;32m      7\u001b[0m \u001b[0;31m# 리스트에서는 아웃 오브 뭐였지 범위 넘어간 것 같은데\u001b[0m\u001b[0;34m\u001b[0m\u001b[0;34m\u001b[0m\u001b[0;34m\u001b[0m\u001b[0m\n\u001b[0;32m----> 8\u001b[0;31m \u001b[0mdisplay\u001b[0m\u001b[0;34m(\u001b[0m \u001b[0marr1D\u001b[0m\u001b[0;34m[\u001b[0m\u001b[0;36m4\u001b[0m\u001b[0;34m]\u001b[0m\u001b[0;34m)\u001b[0m\u001b[0;34m\u001b[0m\u001b[0;34m\u001b[0m\u001b[0m\n\u001b[0m",
            "\u001b[0;31mIndexError\u001b[0m: index 4 is out of bounds for axis 0 with size 4"
          ]
        }
      ]
    },
    {
      "cell_type": "code",
      "source": [
        "#배열도 이터레이블 객체임 -> 반복이 가능하다는 뜻\n",
        "# 리스트가 아니기 때문에, 리스트에서 제공되는 메소드들은 사용될 수 없음\n",
        "# Ex). sort, reverse 등 저거 메소드 이름 맞나?\n",
        "for x in arr1D:\n",
        "  print(x)"
      ],
      "metadata": {
        "colab": {
          "base_uri": "https://localhost:8080/"
        },
        "id": "i6ypWJBCx_Ug",
        "outputId": "b9127ff4-3df2-41f2-b3f1-0fd875d07132"
      },
      "execution_count": null,
      "outputs": [
        {
          "output_type": "stream",
          "name": "stdout",
          "text": [
            "1\n",
            "2\n",
            "3\n",
            "4\n"
          ]
        }
      ]
    },
    {
      "cell_type": "code",
      "source": [
        "# 다만 붙박이 함수(내장함수) 들은 사용가능 함\n",
        "display(min(arr1D))\n",
        "display(max(arr1D))\n"
      ],
      "metadata": {
        "colab": {
          "base_uri": "https://localhost:8080/",
          "height": 52
        },
        "id": "kkuaouYhyjOS",
        "outputId": "4d9f9185-0420-48c1-f4e9-a0ed67173c17"
      },
      "execution_count": null,
      "outputs": [
        {
          "output_type": "display_data",
          "data": {
            "text/plain": [
              "1"
            ]
          },
          "metadata": {}
        },
        {
          "output_type": "display_data",
          "data": {
            "text/plain": [
              "4"
            ]
          },
          "metadata": {}
        }
      ]
    },
    {
      "cell_type": "code",
      "source": [
        "# 리스트 때처럼 슬라이스도 동일하게 가능\n",
        "display( arr1D[:])\n",
        "display( arr1D[::-1])\n",
        "display( arr1D[1:3])\n",
        "display( arr1D[1:4])"
      ],
      "metadata": {
        "colab": {
          "base_uri": "https://localhost:8080/",
          "height": 86
        },
        "id": "HCrYAIKIyyEP",
        "outputId": "656442ab-c079-4598-f115-839f7b062308"
      },
      "execution_count": null,
      "outputs": [
        {
          "output_type": "display_data",
          "data": {
            "text/plain": [
              "array([1, 2, 3, 4])"
            ]
          },
          "metadata": {}
        },
        {
          "output_type": "display_data",
          "data": {
            "text/plain": [
              "array([4, 3, 2, 1])"
            ]
          },
          "metadata": {}
        },
        {
          "output_type": "display_data",
          "data": {
            "text/plain": [
              "array([2, 3])"
            ]
          },
          "metadata": {}
        },
        {
          "output_type": "display_data",
          "data": {
            "text/plain": [
              "array([2, 3, 4])"
            ]
          },
          "metadata": {}
        }
      ]
    },
    {
      "cell_type": "markdown",
      "source": [
        "### 2차원 배열의 인덱싱과 슬라이스\n",
        "- 인덱싱은 다음오가 같이 표현됨\n",
        "  - 리스트에서도 마찬가지로 행과 열을 표현\n",
        "$$\n",
        "array[행,열]\n",
        "$$\n",
        "- 슬라이스는 행과 열을 각각 슬라이스 할 수 있다\n",
        "$$\n",
        "arry[행시작:행끝, 열시작:열끝]\n",
        "$$\n"
      ],
      "metadata": {
        "id": "6y3p9Q7fzWEc"
      }
    },
    {
      "cell_type": "code",
      "source": [
        "# 2차원 배열의 인덱스\n",
        "display(arr2D)\n",
        "display(arr2D[0,0])\n",
        "display(arr2D[0,1])\n",
        "display(arr2D[1,1])"
      ],
      "metadata": {
        "colab": {
          "base_uri": "https://localhost:8080/",
          "height": 121
        },
        "id": "6442WvmVy7BX",
        "outputId": "fe0b6ec2-7bb9-4dff-d3a8-1bb6bc98fca8"
      },
      "execution_count": null,
      "outputs": [
        {
          "output_type": "display_data",
          "data": {
            "text/plain": [
              "array([[1, 2, 3],\n",
              "       [4, 5, 6],\n",
              "       [7, 8, 9]])"
            ]
          },
          "metadata": {}
        },
        {
          "output_type": "display_data",
          "data": {
            "text/plain": [
              "1"
            ]
          },
          "metadata": {}
        },
        {
          "output_type": "display_data",
          "data": {
            "text/plain": [
              "2"
            ]
          },
          "metadata": {}
        },
        {
          "output_type": "display_data",
          "data": {
            "text/plain": [
              "5"
            ]
          },
          "metadata": {}
        }
      ]
    },
    {
      "cell_type": "code",
      "source": [
        "# 배열운 행우선 인덱스를 제공한다\n",
        "# 하나만 있으면 행을 처리한다는 뜻\n",
        "# 열만 인덱싱할 수는 없음. -> 슬라이스를 활용해야 함\n",
        "# 나중에 판다스는 열우선 인덱스를 제공한다.\n",
        "display(arr2D[0])\n",
        "display(arr2D[0, ])\n",
        "display(arr2D[0, :])"
      ],
      "metadata": {
        "colab": {
          "base_uri": "https://localhost:8080/",
          "height": 69
        },
        "id": "aKJisGh90A2j",
        "outputId": "d122c2bc-af51-4689-ca8f-b27d155badc5"
      },
      "execution_count": null,
      "outputs": [
        {
          "output_type": "display_data",
          "data": {
            "text/plain": [
              "array([1, 2, 3])"
            ]
          },
          "metadata": {}
        },
        {
          "output_type": "display_data",
          "data": {
            "text/plain": [
              "array([1, 2, 3])"
            ]
          },
          "metadata": {}
        },
        {
          "output_type": "display_data",
          "data": {
            "text/plain": [
              "array([1, 2, 3])"
            ]
          },
          "metadata": {}
        }
      ]
    },
    {
      "cell_type": "code",
      "source": [
        "#만약 2, 5, 8을 선택하고 싶다면?\n",
        "# 전체 행에 대해서 슬라이스를 한 후에 열을 선택\n",
        "display(arr2D)\n",
        "display(arr2D[:, 1]) #0행부터 끝까지 슬라이스 한 후 각 행의 [1]을 뽑아낸건가"
      ],
      "metadata": {
        "colab": {
          "base_uri": "https://localhost:8080/",
          "height": 86
        },
        "id": "gUREgGLT2qvM",
        "outputId": "96dcf207-2d69-49fe-fa37-3d3893ff98fc"
      },
      "execution_count": null,
      "outputs": [
        {
          "output_type": "display_data",
          "data": {
            "text/plain": [
              "array([[1, 2, 3],\n",
              "       [4, 5, 6],\n",
              "       [7, 8, 9]])"
            ]
          },
          "metadata": {}
        },
        {
          "output_type": "display_data",
          "data": {
            "text/plain": [
              "array([2, 5, 8])"
            ]
          },
          "metadata": {}
        }
      ]
    },
    {
      "cell_type": "code",
      "source": [
        "#슬라이스를 잘 활용하면 행과 열을 동시에 슬ㄹ라이스\n",
        "display(arr2D)\n",
        "display(arr2D[1:, 1:])\n",
        "# 0,1,2행 중 1행부터 끝까지 슬라이스 후 그 중에서 [1]부터 끝까지들을 뽑아냄ㄴ 듯"
      ],
      "metadata": {
        "colab": {
          "base_uri": "https://localhost:8080/",
          "height": 104
        },
        "id": "zpcOXY2T3P-P",
        "outputId": "cdd7e14c-a2b4-42c8-d2de-5445d4e3cbcc"
      },
      "execution_count": null,
      "outputs": [
        {
          "output_type": "display_data",
          "data": {
            "text/plain": [
              "array([[1, 2, 3],\n",
              "       [4, 5, 6],\n",
              "       [7, 8, 9]])"
            ]
          },
          "metadata": {}
        },
        {
          "output_type": "display_data",
          "data": {
            "text/plain": [
              "array([[5, 6],\n",
              "       [8, 9]])"
            ]
          },
          "metadata": {}
        }
      ]
    },
    {
      "cell_type": "code",
      "source": [
        "# 코든느 다음에 알려줄테니 \n",
        "# 다음을 이용해 인덱싱, 슬라이스 연습해볼 것\n",
        "arrN= np.arange(1, 31).reshape(3, 10)\n",
        "arrN"
      ],
      "metadata": {
        "colab": {
          "base_uri": "https://localhost:8080/"
        },
        "id": "UGR5udB_3h6A",
        "outputId": "3cb6bc63-351d-4775-fbbb-0bcc1c9be565"
      },
      "execution_count": null,
      "outputs": [
        {
          "output_type": "execute_result",
          "data": {
            "text/plain": [
              "array([[ 1,  2,  3,  4,  5,  6,  7,  8,  9, 10],\n",
              "       [11, 12, 13, 14, 15, 16, 17, 18, 19, 20],\n",
              "       [21, 22, 23, 24, 25, 26, 27, 28, 29, 30]])"
            ]
          },
          "metadata": {},
          "execution_count": 68
        }
      ]
    },
    {
      "cell_type": "code",
      "source": [
        "# 다음수들을 인덱싱 또는 슬라이스 해볼 것\n",
        "\n",
        "# 16 \n",
        "display(arrN[1, 5])\n",
        "\n",
        "# 29\n",
        "display(arrN[2, 8])\n",
        "\n",
        "# 14, 15, 16\n",
        "display(arrN[1, 3:6])\n",
        "\n",
        "# 18, 28\n",
        "display(arrN[1:, 7])\n",
        "\n",
        "# 9, 10, 19, 20\n",
        "display(arrN[:2, 8:])\n",
        "\n"
      ],
      "metadata": {
        "colab": {
          "base_uri": "https://localhost:8080/",
          "height": 121
        },
        "id": "gHA_KAon3Faz",
        "outputId": "d2f79bed-68b8-467e-aa9f-2eb196b3fdcd"
      },
      "execution_count": null,
      "outputs": [
        {
          "output_type": "display_data",
          "data": {
            "text/plain": [
              "16"
            ]
          },
          "metadata": {}
        },
        {
          "output_type": "display_data",
          "data": {
            "text/plain": [
              "29"
            ]
          },
          "metadata": {}
        },
        {
          "output_type": "display_data",
          "data": {
            "text/plain": [
              "array([14, 15, 16])"
            ]
          },
          "metadata": {}
        },
        {
          "output_type": "display_data",
          "data": {
            "text/plain": [
              "array([18, 28])"
            ]
          },
          "metadata": {}
        },
        {
          "output_type": "display_data",
          "data": {
            "text/plain": [
              "array([[ 9, 10],\n",
              "       [19, 20]])"
            ]
          },
          "metadata": {}
        }
      ]
    },
    {
      "cell_type": "code",
      "source": [
        "arrn = np.arange(1, 51).reshape(5, 10)\n",
        "arrn"
      ],
      "metadata": {
        "colab": {
          "base_uri": "https://localhost:8080/"
        },
        "id": "uPkv0LCa4Ai9",
        "outputId": "3df182e7-25b6-42a6-fcb6-ae9b4f8098ea"
      },
      "execution_count": null,
      "outputs": [
        {
          "output_type": "execute_result",
          "data": {
            "text/plain": [
              "array([[ 1,  2,  3,  4,  5,  6,  7,  8,  9, 10],\n",
              "       [11, 12, 13, 14, 15, 16, 17, 18, 19, 20],\n",
              "       [21, 22, 23, 24, 25, 26, 27, 28, 29, 30],\n",
              "       [31, 32, 33, 34, 35, 36, 37, 38, 39, 40],\n",
              "       [41, 42, 43, 44, 45, 46, 47, 48, 49, 50]])"
            ]
          },
          "metadata": {},
          "execution_count": 70
        }
      ]
    },
    {
      "cell_type": "code",
      "source": [
        "# 14, 15, 16, 17, 24, 25, 26, 27, 34, 35, 36, 37\n",
        "display(arrn[1:4, 3:7])\n",
        "\n",
        "# 12, 22, 32\n",
        "display(arrn[1:4, 1])"
      ],
      "metadata": {
        "colab": {
          "base_uri": "https://localhost:8080/",
          "height": 86
        },
        "id": "jWG_k1XC55ZV",
        "outputId": "6b307874-001d-4a1e-d40b-41f2ab7510e9"
      },
      "execution_count": null,
      "outputs": [
        {
          "output_type": "display_data",
          "data": {
            "text/plain": [
              "array([[14, 15, 16, 17],\n",
              "       [24, 25, 26, 27],\n",
              "       [34, 35, 36, 37]])"
            ]
          },
          "metadata": {}
        },
        {
          "output_type": "display_data",
          "data": {
            "text/plain": [
              "array([12, 22, 32])"
            ]
          },
          "metadata": {}
        }
      ]
    },
    {
      "cell_type": "code",
      "source": [
        "## 팬시 인덱싱(배열 인덱싱)\n",
        "- 인덱스로 배열을 사용\n",
        "  - 불리언배열 : 배열이 불리언(True,False)로 이루어진 배열을 인덱스로 쓴다\n",
        "  - 정수배열 : 정수로 이루어진 배열을 인덱스로 쓴다\n",
        "  - 많이 쓰임. 특시 불리언배열. 조건검색 등에 많이 사용"
      ],
      "metadata": {
        "colab": {
          "base_uri": "https://localhost:8080/",
          "height": 133
        },
        "id": "20LShB6k6KTh",
        "outputId": "6f699c53-4a61-478b-b0c6-5c16f815bfa9"
      },
      "execution_count": null,
      "outputs": [
        {
          "output_type": "error",
          "ename": "SyntaxError",
          "evalue": "ignored",
          "traceback": [
            "\u001b[0;36m  File \u001b[0;32m\"<ipython-input-72-501ba0e8476f>\"\u001b[0;36m, line \u001b[0;32m2\u001b[0m\n\u001b[0;31m    - 인덱스로 배열을 사용\u001b[0m\n\u001b[0m             ^\u001b[0m\n\u001b[0;31mSyntaxError\u001b[0m\u001b[0;31m:\u001b[0m invalid syntax\n"
          ]
        }
      ]
    },
    {
      "cell_type": "markdown",
      "source": [
        "### 불리언 인덱스\n",
        "- 배열에서 True에 해당하는 값만 선택\n",
        "- 추후에는 불리언 배열을 조건에 부합하는 결과만 선택할 수 있도록\n"
      ],
      "metadata": {
        "id": "rJJyC9aS7Dob"
      }
    },
    {
      "cell_type": "code",
      "source": [
        "display(arr1D)\n",
        "arr1D[ np.array([True, False, False, False]) ]\n",
        "# 이 때 중요한 것은 배열의 크기와 인덱스 배열의 크기는 동일해야 사용할 수 있음"
      ],
      "metadata": {
        "colab": {
          "base_uri": "https://localhost:8080/",
          "height": 52
        },
        "id": "jNt9MQci7NCk",
        "outputId": "e50402f4-bed9-401b-84c5-131c51baf588"
      },
      "execution_count": null,
      "outputs": [
        {
          "output_type": "display_data",
          "data": {
            "text/plain": [
              "array([1, 2, 3, 4])"
            ]
          },
          "metadata": {}
        },
        {
          "output_type": "execute_result",
          "data": {
            "text/plain": [
              "array([1])"
            ]
          },
          "metadata": {},
          "execution_count": 73
        }
      ]
    },
    {
      "cell_type": "code",
      "source": [
        "# 배열에서 조건에 맞는 값만 검색\n",
        "display(arr1D>2)\n",
        "display( arr1D[ arr1D > 2 ])"
      ],
      "metadata": {
        "colab": {
          "base_uri": "https://localhost:8080/",
          "height": 52
        },
        "id": "FTOKs0Dq7e6x",
        "outputId": "52c4687c-3b67-4afb-b3f6-b17bfbe139b5"
      },
      "execution_count": null,
      "outputs": [
        {
          "output_type": "display_data",
          "data": {
            "text/plain": [
              "array([False, False,  True,  True])"
            ]
          },
          "metadata": {}
        },
        {
          "output_type": "display_data",
          "data": {
            "text/plain": [
              "array([3, 4])"
            ]
          },
          "metadata": {}
        }
      ]
    },
    {
      "cell_type": "code",
      "source": [
        "# 그냥 나혼자 해본 거..,,\n",
        "display( arr1D[ arr1D % 2 != 0 ])"
      ],
      "metadata": {
        "colab": {
          "base_uri": "https://localhost:8080/",
          "height": 34
        },
        "id": "UsVVuD1B7zcw",
        "outputId": "19785b89-905a-4eb7-bf5f-569316526989"
      },
      "execution_count": null,
      "outputs": [
        {
          "output_type": "display_data",
          "data": {
            "text/plain": [
              "array([1, 3])"
            ]
          },
          "metadata": {}
        }
      ]
    },
    {
      "cell_type": "markdown",
      "source": [
        "### 정수배열\n",
        "- 배열에서 원하는 인덱스를 배열로 생성\n",
        "- **중복 선택이 가능**, 배열의 크기과 인덱스 배열의 크기가 달라도 상관이 없음\n"
      ],
      "metadata": {
        "id": "r5kJ1Fbs8eqs"
      }
    },
    {
      "cell_type": "code",
      "source": [
        "idx = np.array([1,1,1,1,1,1,1,1,1,0,0,0,0,2,2,2,2,2,2,3,3,3,3,3,3,2,2,2,1,1,1])\n",
        "arr1D[idx]\n",
        "# 이거 무슨 뜻이냐면\n",
        "# idx 처음의 1 은 -> arr1D의 인덱스 [1] 을 의미하는 것\n",
        "arr1D의 [1]은 2 라서 2가 나온 것\n"
      ],
      "metadata": {
        "colab": {
          "base_uri": "https://localhost:8080/"
        },
        "id": "KAxXq9Sb8W4X",
        "outputId": "ed90d07f-5b4b-4d82-f78b-c67ba852ef06"
      },
      "execution_count": null,
      "outputs": [
        {
          "output_type": "execute_result",
          "data": {
            "text/plain": [
              "array([2, 2, 2, 2, 2, 2, 2, 2, 2, 1, 1, 1, 1, 3, 3, 3, 3, 3, 3, 4, 4, 4,\n",
              "       4, 4, 4, 3, 3, 3, 2, 2, 2])"
            ]
          },
          "metadata": {},
          "execution_count": 78
        }
      ]
    },
    {
      "cell_type": "markdown",
      "source": [
        "## 배열의 타입\n",
        "- 리스트와는 다르게 배열은 타입을 가진다\n",
        "  - 리스트는 여러개의 타입을 원소로 가질 수 있다\n",
        "  - 배열은 하나의 타입만 원소로 가질 수 있다\n",
        "- 배열은, 배열이 생성될 떄, 원소들의 타입을 보고 기본적인 자료의 타입을 결정하게 된다.\n"
      ],
      "metadata": {
        "id": "R8kQnscv92ap"
      }
    },
    {
      "cell_type": "code",
      "source": [
        "# 리스트는 여러 타입을 가짐\n",
        "[1, 2, 1.0, 'string', [1, 2, 3] ]\n"
      ],
      "metadata": {
        "colab": {
          "base_uri": "https://localhost:8080/"
        },
        "id": "dzf_nf6H8yZn",
        "outputId": "e91c6b3d-ac4c-42e1-d7f9-b9f3df2a6611"
      },
      "execution_count": null,
      "outputs": [
        {
          "output_type": "execute_result",
          "data": {
            "text/plain": [
              "[1, 2, 1.0, 'string', [1, 2, 3]]"
            ]
          },
          "metadata": {},
          "execution_count": 79
        }
      ]
    },
    {
      "cell_type": "code",
      "source": [
        "arr1D.dtype\n",
        "# integer이고, 최대 64비트까지 사용이 가능하다 라는 뜻"
      ],
      "metadata": {
        "colab": {
          "base_uri": "https://localhost:8080/"
        },
        "id": "TmgMyt-H-InR",
        "outputId": "12abacf8-bd24-41ea-9bf6-49da251d1b82"
      },
      "execution_count": null,
      "outputs": [
        {
          "output_type": "execute_result",
          "data": {
            "text/plain": [
              "dtype('int64')"
            ]
          },
          "metadata": {},
          "execution_count": 81
        }
      ]
    },
    {
      "cell_type": "code",
      "source": [
        "# 원소의 타입이 여러개라면 가장 큰 타입이 기본타입이 됨\n",
        "# 타입이 결정되면, 나머지 값들도 결정된 기본타입을 따르게 된다\n",
        "arr = np.array([1, 2, 3, 4, 5.0] )\n",
        "display(arr)\n",
        "display(arr.dtype)"
      ],
      "metadata": {
        "colab": {
          "base_uri": "https://localhost:8080/",
          "height": 52
        },
        "id": "l3w5kQzh-K2b",
        "outputId": "45029fa4-2c97-43fc-d2b7-59831f2455b6"
      },
      "execution_count": null,
      "outputs": [
        {
          "output_type": "display_data",
          "data": {
            "text/plain": [
              "array([1., 2., 3., 4., 5.])"
            ]
          },
          "metadata": {}
        },
        {
          "output_type": "display_data",
          "data": {
            "text/plain": [
              "dtype('float64')"
            ]
          },
          "metadata": {}
        }
      ]
    },
    {
      "cell_type": "code",
      "source": [
        "# 배열을 생성할 때, 타입을 직접 결정할 수도 있다\n",
        "arr = np.array([1, 2, 3, 4, 5,], dtype=np.float64)\n",
        "display(arr)\n",
        "display(arr.dtype)\n",
        "#정수로 입력을 했어도 기본타입으로 변경됨"
      ],
      "metadata": {
        "colab": {
          "base_uri": "https://localhost:8080/",
          "height": 52
        },
        "id": "_YnwIKvA_sxo",
        "outputId": "a63a7c69-904f-4312-9030-7ab2c0934957"
      },
      "execution_count": null,
      "outputs": [
        {
          "output_type": "display_data",
          "data": {
            "text/plain": [
              "array([1., 2., 3., 4., 5.])"
            ]
          },
          "metadata": {}
        },
        {
          "output_type": "display_data",
          "data": {
            "text/plain": [
              "dtype('float64')"
            ]
          },
          "metadata": {}
        }
      ]
    },
    {
      "cell_type": "markdown",
      "source": [
        "#### 문자와 정수가 같이 있는 경우에는 문자열이 가장 큰 타입이 됨\n",
        "- 정수는 문자를 표현할 수 없지만 문자는 숫자도 표현이 가능하기 때문?"
      ],
      "metadata": {
        "id": "XAxXV0PMAPA1"
      }
    },
    {
      "cell_type": "markdown",
      "source": [
        "#### 텐서플로우를 사용하는 경우에는 자료의 차원과 타입에 매우 민감하기 때문에 중요하다"
      ],
      "metadata": {
        "id": "k7PTMFTuAMMg"
      }
    },
    {
      "cell_type": "code",
      "source": [
        "@## 넘파이에서만 정의되어있는 특별한 타입\n",
        "- 파이썬은 이런 타입을 갖지 않는다\n",
        "- inf 무한\n",
        "  - 표현할 수 없는 값\n",
        "  함수를 사용했는데 함수가 수렴하지 않고 발산하는 경우(inf, -inf)\n",
        "-Nan ( Not a Number)\n",
        "  - 숫자가 아니라는 뜻\n",
        "  - 결측치(비어있는 값)를 표현할 때 \n",
        "  값을 표현할 수 없는 경우"
      ],
      "metadata": {
        "id": "E3-CQN3j__h1"
      },
      "execution_count": null,
      "outputs": []
    },
    {
      "cell_type": "code",
      "source": [
        "#참고만 하자 일단\n",
        "display( type(np.NaN) )\n",
        "display(np.array([0]) / np.array([0]) ) #0을 0으로 나눔"
      ],
      "metadata": {
        "colab": {
          "base_uri": "https://localhost:8080/",
          "height": 106
        },
        "id": "SeNjxnXPBItD",
        "outputId": "52e43fd3-245d-46b5-b5c4-6c2728f761fe"
      },
      "execution_count": null,
      "outputs": [
        {
          "output_type": "display_data",
          "data": {
            "text/plain": [
              "float"
            ]
          },
          "metadata": {}
        },
        {
          "output_type": "stream",
          "name": "stderr",
          "text": [
            "/usr/local/lib/python3.7/dist-packages/ipykernel_launcher.py:3: RuntimeWarning: invalid value encountered in true_divide\n",
            "  This is separate from the ipykernel package so we can avoid doing imports until\n"
          ]
        },
        {
          "output_type": "display_data",
          "data": {
            "text/plain": [
              "array([nan])"
            ]
          },
          "metadata": {}
        }
      ]
    },
    {
      "cell_type": "code",
      "source": [
        "#참고만 하자 일단\n",
        "display( type(np.inf) )\n",
        "display(np.log(0) )"
      ],
      "metadata": {
        "colab": {
          "base_uri": "https://localhost:8080/",
          "height": 106
        },
        "id": "C0mC3nhNBS4P",
        "outputId": "dde657a6-0db1-431a-8d7a-714f3087cc10"
      },
      "execution_count": null,
      "outputs": [
        {
          "output_type": "display_data",
          "data": {
            "text/plain": [
              "float"
            ]
          },
          "metadata": {}
        },
        {
          "output_type": "stream",
          "name": "stderr",
          "text": [
            "/usr/local/lib/python3.7/dist-packages/ipykernel_launcher.py:3: RuntimeWarning: divide by zero encountered in log\n",
            "  This is separate from the ipykernel package so we can avoid doing imports until\n"
          ]
        },
        {
          "output_type": "display_data",
          "data": {
            "text/plain": [
              "-inf"
            ]
          },
          "metadata": {}
        }
      ]
    },
    {
      "cell_type": "code",
      "source": [
        ""
      ],
      "metadata": {
        "id": "aevyUlShBYs_"
      },
      "execution_count": null,
      "outputs": []
    },
    {
      "cell_type": "markdown",
      "source": [
        "## 배역을 생성하는 방법\n",
        "- p.215\n"
      ],
      "metadata": {
        "id": "KM214jvYGIPF"
      }
    },
    {
      "cell_type": "markdown",
      "source": [
        "### 초기화된 배열\n",
        "- 0과 1은 특별히 취급함\n",
        "- 원소가 전부 0이거나 전부 1인 경우에는 선형대수에서는 특별하게 취급함\n",
        "- 0과 1로 초기화된 배열을 만들 수 있음\n"
      ],
      "metadata": {
        "id": "ooITAdivGQz1"
      }
    },
    {
      "cell_type": "code",
      "source": [
        "# 0으로 초기화된 배열\n",
        "# 기본타입은 실수 형태로 지정 됨 -> 실수로 정수도 표현이 가능해서?\n",
        "np.zeros(10)"
      ],
      "metadata": {
        "colab": {
          "base_uri": "https://localhost:8080/"
        },
        "id": "uWsxwry1GiYe",
        "outputId": "f3a3d40f-3ae5-4028-f994-5b2806c7570b"
      },
      "execution_count": null,
      "outputs": [
        {
          "output_type": "execute_result",
          "data": {
            "text/plain": [
              "array([0., 0., 0., 0., 0., 0., 0., 0., 0., 0.])"
            ]
          },
          "metadata": {},
          "execution_count": 90
        }
      ]
    },
    {
      "cell_type": "code",
      "source": [
        "# 1로 초기화된 배열\n",
        "np.ones(10)"
      ],
      "metadata": {
        "colab": {
          "base_uri": "https://localhost:8080/"
        },
        "id": "J7XzCI3pGqUZ",
        "outputId": "52893cef-0498-42ab-ad74-ac7c127aff3a"
      },
      "execution_count": null,
      "outputs": [
        {
          "output_type": "execute_result",
          "data": {
            "text/plain": [
              "array([1., 1., 1., 1., 1., 1., 1., 1., 1., 1.])"
            ]
          },
          "metadata": {},
          "execution_count": 91
        }
      ]
    },
    {
      "cell_type": "code",
      "source": [
        "# 0과 1이 아닌 다른 값으로 초기화 하고 싶은 경우\n",
        "np.full(10, 5)\n",
        "# 두번째 파라미터로 초기값을 지정해주면 됨\n",
        "# full을 쓸 일이 자주 있진 않음"
      ],
      "metadata": {
        "colab": {
          "base_uri": "https://localhost:8080/"
        },
        "id": "0LrIcStcGtjj",
        "outputId": "fd279ba7-dc17-4177-bc2f-d52063ac0ce3"
      },
      "execution_count": null,
      "outputs": [
        {
          "output_type": "execute_result",
          "data": {
            "text/plain": [
              "array([5, 5, 5, 5, 5, 5, 5, 5, 5, 5])"
            ]
          },
          "metadata": {},
          "execution_count": 92
        }
      ]
    },
    {
      "cell_type": "markdown",
      "source": [
        "## 수열을 생성하는 방법\n",
        "- range와 같은 역할\n",
        "  - range는 자연수만 가능함\n",
        "- arange\n",
        "  - 실수(소수)에 대한 수열도 만들 수 있음\n",
        "  - "
      ],
      "metadata": {
        "id": "e2Aae5ezHZyF"
      }
    },
    {
      "cell_type": "code",
      "source": [
        "np.arange(1, 10)"
      ],
      "metadata": {
        "colab": {
          "base_uri": "https://localhost:8080/"
        },
        "id": "0U6PJIiYHpoU",
        "outputId": "f7e57d8a-140c-4e80-c5e6-9b39011ac766"
      },
      "execution_count": null,
      "outputs": [
        {
          "output_type": "execute_result",
          "data": {
            "text/plain": [
              "array([1, 2, 3, 4, 5, 6, 7, 8, 9])"
            ]
          },
          "metadata": {},
          "execution_count": 93
        }
      ]
    },
    {
      "cell_type": "code",
      "source": [
        "np.arange(1, 2, 0.1)"
      ],
      "metadata": {
        "colab": {
          "base_uri": "https://localhost:8080/"
        },
        "id": "rxYjkyf9G81T",
        "outputId": "2187e645-f710-4df0-c12a-c67473d79bff"
      },
      "execution_count": null,
      "outputs": [
        {
          "output_type": "execute_result",
          "data": {
            "text/plain": [
              "array([1. , 1.1, 1.2, 1.3, 1.4, 1.5, 1.6, 1.7, 1.8, 1.9])"
            ]
          },
          "metadata": {},
          "execution_count": 96
        }
      ]
    },
    {
      "cell_type": "code",
      "source": [
        "# linspace는 주어진 구간에서 갯수만큼 균등한 간격으로 수열을 생성\n",
        "# arange와 다르게 마지막 원소를 포함\n",
        "display(np.linspace(0, 10, 11) )\n",
        "# 0에서 10까지 11개의 구간으로 \n",
        "display(np.linspace(1, 2, 100) ) # 1에서 2까지 100등분한다는 뜻"
      ],
      "metadata": {
        "colab": {
          "base_uri": "https://localhost:8080/",
          "height": 381
        },
        "id": "QK4slwDQHvZf",
        "outputId": "b752e6ca-cc45-4aa4-891b-724271071124"
      },
      "execution_count": null,
      "outputs": [
        {
          "output_type": "display_data",
          "data": {
            "text/plain": [
              "array([ 0.,  1.,  2.,  3.,  4.,  5.,  6.,  7.,  8.,  9., 10.])"
            ]
          },
          "metadata": {}
        },
        {
          "output_type": "display_data",
          "data": {
            "text/plain": [
              "array([1.        , 1.01010101, 1.02020202, 1.03030303, 1.04040404,\n",
              "       1.05050505, 1.06060606, 1.07070707, 1.08080808, 1.09090909,\n",
              "       1.1010101 , 1.11111111, 1.12121212, 1.13131313, 1.14141414,\n",
              "       1.15151515, 1.16161616, 1.17171717, 1.18181818, 1.19191919,\n",
              "       1.2020202 , 1.21212121, 1.22222222, 1.23232323, 1.24242424,\n",
              "       1.25252525, 1.26262626, 1.27272727, 1.28282828, 1.29292929,\n",
              "       1.3030303 , 1.31313131, 1.32323232, 1.33333333, 1.34343434,\n",
              "       1.35353535, 1.36363636, 1.37373737, 1.38383838, 1.39393939,\n",
              "       1.4040404 , 1.41414141, 1.42424242, 1.43434343, 1.44444444,\n",
              "       1.45454545, 1.46464646, 1.47474747, 1.48484848, 1.49494949,\n",
              "       1.50505051, 1.51515152, 1.52525253, 1.53535354, 1.54545455,\n",
              "       1.55555556, 1.56565657, 1.57575758, 1.58585859, 1.5959596 ,\n",
              "       1.60606061, 1.61616162, 1.62626263, 1.63636364, 1.64646465,\n",
              "       1.65656566, 1.66666667, 1.67676768, 1.68686869, 1.6969697 ,\n",
              "       1.70707071, 1.71717172, 1.72727273, 1.73737374, 1.74747475,\n",
              "       1.75757576, 1.76767677, 1.77777778, 1.78787879, 1.7979798 ,\n",
              "       1.80808081, 1.81818182, 1.82828283, 1.83838384, 1.84848485,\n",
              "       1.85858586, 1.86868687, 1.87878788, 1.88888889, 1.8989899 ,\n",
              "       1.90909091, 1.91919192, 1.92929293, 1.93939394, 1.94949495,\n",
              "       1.95959596, 1.96969697, 1.97979798, 1.98989899, 2.        ])"
            ]
          },
          "metadata": {}
        }
      ]
    },
    {
      "cell_type": "markdown",
      "source": [
        "### 무작위 배열을 생성하는 방법\n",
        "- 랜덤\n",
        "  - 파이썬도 램덤이 있고 넘파이도 랜덤이 있는데\n",
        "  - 랜덤은 '균등분포'를 의미한다\n",
        "\n",
        "- 주로 표본추출, 샘플링 등에 많이 쓰임"
      ],
      "metadata": {
        "id": "BZB_zGnbIqgZ"
      }
    },
    {
      "cell_type": "code",
      "source": [
        "# 균등분포를 통해서 정해진 갯수만큼 수를 랜덤하게 생성\n",
        "# 랜덤이기 때문에, 실행할 때마다 매번 다른 값이 생성됨\n",
        "np.random.rand(10)"
      ],
      "metadata": {
        "colab": {
          "base_uri": "https://localhost:8080/"
        },
        "id": "JoUG5jFMILtf",
        "outputId": "997aca70-e6d0-4452-8e88-3b2b429149d8"
      },
      "execution_count": null,
      "outputs": [
        {
          "output_type": "execute_result",
          "data": {
            "text/plain": [
              "array([0.55554715, 0.28616018, 0.16718228, 0.48878082, 0.04976387,\n",
              "       0.89068289, 0.76404692, 0.41610231, 0.5059761 , 0.45058493])"
            ]
          },
          "metadata": {},
          "execution_count": 100
        }
      ]
    },
    {
      "cell_type": "code",
      "source": [
        "#정수 형태로 무작위수를 생성하고 싶다면\n",
        "np.random.randint(0, 10, size=10)\n",
        "# 10진수로, 10개만큼 ?"
      ],
      "metadata": {
        "colab": {
          "base_uri": "https://localhost:8080/"
        },
        "id": "M41g8GyhJF8Y",
        "outputId": "1ec41677-2207-473e-bd33-611a8ee845a9"
      },
      "execution_count": null,
      "outputs": [
        {
          "output_type": "execute_result",
          "data": {
            "text/plain": [
              "array([4, 0, 0, 1, 3, 7, 5, 3, 1, 6])"
            ]
          },
          "metadata": {},
          "execution_count": 104
        }
      ]
    },
    {
      "cell_type": "code",
      "source": [
        "# 무작위로 생성되는 수를 고정\n",
        "np.random.seed(100) # 시드값은 의미없음 그냥 아무거나. 적은 시드값에 고정된다는 뜻\n",
        "np.random.rand(10)"
      ],
      "metadata": {
        "colab": {
          "base_uri": "https://localhost:8080/"
        },
        "id": "E6y3KC7IJu2d",
        "outputId": "ffcb2368-4613-40cc-dc0c-58ff95b78a87"
      },
      "execution_count": null,
      "outputs": [
        {
          "output_type": "execute_result",
          "data": {
            "text/plain": [
              "array([0.54340494, 0.27836939, 0.42451759, 0.84477613, 0.00471886,\n",
              "       0.12156912, 0.67074908, 0.82585276, 0.13670659, 0.57509333])"
            ]
          },
          "metadata": {},
          "execution_count": 108
        }
      ]
    },
    {
      "cell_type": "code",
      "source": [
        "# 중복되지 않는 무작위 수를 생성하려면\n",
        "arr = np.arange(1, 11)\n",
        "np.random.choice(arr, size = 5)\n",
        "#주어진 배열에서 사이즈만큼 랜덤하게 선택\n",
        "#중복가능\n",
        "# 중복없이 선택하려면\n",
        "# np.random.choice(arr, size = 5, relpace=False) 이렇게 적으면 됨. 기본값은 True인가 봄"
      ],
      "metadata": {
        "colab": {
          "base_uri": "https://localhost:8080/"
        },
        "id": "eKQ5ew7_J8PN",
        "outputId": "a34dfdab-ae3c-4f74-cc0d-c3baee5f6552"
      },
      "execution_count": null,
      "outputs": [
        {
          "output_type": "execute_result",
          "data": {
            "text/plain": [
              "array([5, 4, 8, 2, 2])"
            ]
          },
          "metadata": {},
          "execution_count": 111
        }
      ]
    },
    {
      "cell_type": "code",
      "source": [
        "# 실습\n",
        "# 로또 번호 생성기\n"
      ],
      "metadata": {
        "id": "KGrT29WeKUOj"
      },
      "execution_count": null,
      "outputs": []
    },
    {
      "cell_type": "markdown",
      "source": [
        "### 실습 - 로또번호 생성하기\n",
        "- 로또는 1부터 45까지의 수 중에서 6자리의 수가 무작위로 선택\n",
        "- 중복은 허용하지 않음\n",
        "  - 수업에서는 전통적으로 제일 처음 생성된 로또 번호를 구매!!!!!!!\n"
      ],
      "metadata": {
        "id": "vcpzI-c8K5d-"
      }
    },
    {
      "cell_type": "code",
      "source": [
        "arr = np.arange(1, 46)\n",
        "np.random.choice(arr, size=6, replace=False)"
      ],
      "metadata": {
        "colab": {
          "base_uri": "https://localhost:8080/"
        },
        "id": "OQgtqz-tLD13",
        "outputId": "d529b182-8739-4b0c-cf28-614b2c3c3b16"
      },
      "execution_count": null,
      "outputs": [
        {
          "output_type": "execute_result",
          "data": {
            "text/plain": [
              "array([26,  2, 25,  6, 42, 12])"
            ]
          },
          "metadata": {},
          "execution_count": 112
        }
      ]
    },
    {
      "cell_type": "markdown",
      "source": [
        "## 배열의 모양\n",
        "- 고차원의 배열을 저차원의 배열로\n",
        "- 저차원의 배열을 고차원의 배열로\n",
        "  - 저차원은 1차원 배열로 변경이 가능\n",
        "- 변경전의 크기와 변경 후의 크기가 달리지면 안 됨\n",
        "  - 자료의 개수가 반드시 일치해야 함\n"
      ],
      "metadata": {
        "id": "0uejnFEDi7LM"
      }
    },
    {
      "cell_type": "markdown",
      "source": [
        "### 저차원의 배열을 고차원의 배열로 변경"
      ],
      "metadata": {
        "id": "fCLxhZMJjGoy"
      }
    },
    {
      "cell_type": "code",
      "source": [
        "arr1D = np.random.randint(0, 10, size=4)\n",
        "arr1D"
      ],
      "metadata": {
        "colab": {
          "base_uri": "https://localhost:8080/"
        },
        "id": "sRRHD6xXLTV8",
        "outputId": "ec263f7b-c8c0-4896-9e28-e96e1b156869"
      },
      "execution_count": null,
      "outputs": [
        {
          "output_type": "execute_result",
          "data": {
            "text/plain": [
              "array([4, 9, 1, 3])"
            ]
          },
          "metadata": {},
          "execution_count": 9
        }
      ]
    },
    {
      "cell_type": "code",
      "source": [
        "display(arr1D.reshape(2, 2))\n",
        "display(arr1D.reshape(-1, 2))\n",
        "display(arr1D.reshape(4, 1))\n",
        "display(arr1D.reshape(-1, 1))\n",
        "# 행에 -1 을 하고, 열의 크기만 지정해주면, 열에 맞춰서 자동으로 계산 해준다"
      ],
      "metadata": {
        "colab": {
          "base_uri": "https://localhost:8080/",
          "height": 225
        },
        "id": "o7MuyCBcjW8K",
        "outputId": "3fcc7052-2f20-4dbe-fc32-bb09a62f4328"
      },
      "execution_count": null,
      "outputs": [
        {
          "output_type": "display_data",
          "data": {
            "text/plain": [
              "array([[4, 9],\n",
              "       [1, 3]])"
            ]
          },
          "metadata": {}
        },
        {
          "output_type": "display_data",
          "data": {
            "text/plain": [
              "array([[4, 9],\n",
              "       [1, 3]])"
            ]
          },
          "metadata": {}
        },
        {
          "output_type": "display_data",
          "data": {
            "text/plain": [
              "array([[4],\n",
              "       [9],\n",
              "       [1],\n",
              "       [3]])"
            ]
          },
          "metadata": {}
        },
        {
          "output_type": "display_data",
          "data": {
            "text/plain": [
              "array([[4],\n",
              "       [9],\n",
              "       [1],\n",
              "       [3]])"
            ]
          },
          "metadata": {}
        }
      ]
    },
    {
      "cell_type": "markdown",
      "source": [
        "### 고차원의 배열을 저차원으로"
      ],
      "metadata": {
        "id": "2Cvx8Dhmkxcj"
      }
    },
    {
      "cell_type": "code",
      "source": [
        "arr2D = np.random.randint(1, 10, size=(3, 3))\n",
        "arr2D"
      ],
      "metadata": {
        "colab": {
          "base_uri": "https://localhost:8080/"
        },
        "id": "DQRtMMUajZgh",
        "outputId": "625f5fce-39ad-4ab2-a40e-bba3bdfcc45b"
      },
      "execution_count": null,
      "outputs": [
        {
          "output_type": "execute_result",
          "data": {
            "text/plain": [
              "array([[4, 8, 9],\n",
              "       [8, 9, 4],\n",
              "       [9, 1, 8]])"
            ]
          },
          "metadata": {},
          "execution_count": 13
        }
      ]
    },
    {
      "cell_type": "code",
      "source": [
        "display(arr2D.flatten() ) #납작하게\n",
        "display(arr2D.ravel() )\n",
        "# 열기준으로 변경\n",
        "display(arr2D.flatten(order='F') ) # 오더 파라미터를 이용하면 열 기준으로\n"
      ],
      "metadata": {
        "colab": {
          "base_uri": "https://localhost:8080/",
          "height": 69
        },
        "id": "CzKSsmMZkdKb",
        "outputId": "86c88a21-ddb0-4f45-f241-4d5729be663d"
      },
      "execution_count": null,
      "outputs": [
        {
          "output_type": "display_data",
          "data": {
            "text/plain": [
              "array([4, 8, 9, 8, 9, 4, 9, 1, 8])"
            ]
          },
          "metadata": {}
        },
        {
          "output_type": "display_data",
          "data": {
            "text/plain": [
              "array([4, 8, 9, 8, 9, 4, 9, 1, 8])"
            ]
          },
          "metadata": {}
        },
        {
          "output_type": "display_data",
          "data": {
            "text/plain": [
              "array([4, 8, 9, 8, 9, 1, 9, 4, 8])"
            ]
          },
          "metadata": {}
        }
      ]
    },
    {
      "cell_type": "code",
      "source": [
        ""
      ],
      "metadata": {
        "id": "ZMoLgJADks2O"
      },
      "execution_count": null,
      "outputs": []
    },
    {
      "cell_type": "markdown",
      "source": [
        "## 넘파이를 이용한 연산\n",
        "- 기본적인 연산"
      ],
      "metadata": {
        "id": "iQkf-6yinCvv"
      }
    },
    {
      "cell_type": "markdown",
      "source": [
        "## 자료의 형태\n",
        "- 스칼라(Scalar)\n",
        "- 벡터(Vector)\n",
        "- 행렬(Matrix)"
      ],
      "metadata": {
        "id": "r1KqOjxaljiy"
      }
    },
    {
      "cell_type": "markdown",
      "source": [
        "### 스칼라\n",
        "- 물리학에서는 양(Volumn, Magnitude)을 표현\n",
        "- 방향이 없고, 물리적인 `양`만을 표현\n",
        "- 파이썬에서는 변하지 않는 상수(숫자) 정도로 이해\n",
        "\n",
        "$$\n",
        "  10, [[1]]\n",
        "$$"
      ],
      "metadata": {
        "id": "kxgO3RoQlrcG"
      }
    },
    {
      "cell_type": "markdown",
      "source": [
        "### 벡터\n",
        "- 물리학에서는 방향성을 가지고 있는 형태\n",
        "- 파이썬에서는 **행이 n개이고, 열이 1인 형태의 배열**을 벡터라고 합니다. \n",
        "  - 행벡터와 열벡터가 있는데, 일반적으로 벡터라고 하면 열벡터를 의미합니다. "
      ],
      "metadata": {
        "id": "wMjT03bsmELc"
      }
    },
    {
      "cell_type": "code",
      "source": [
        "#넘파이에서는 1차원 배열이 행벡터가 된다.\n",
        "vector = np.random.randint(1, 10, size = 5)\n",
        "vector"
      ],
      "metadata": {
        "colab": {
          "base_uri": "https://localhost:8080/"
        },
        "id": "jozYQdjlncBF",
        "outputId": "13e56a56-20ce-459c-dfeb-324f90a949f8"
      },
      "execution_count": null,
      "outputs": [
        {
          "output_type": "execute_result",
          "data": {
            "text/plain": [
              "array([3, 4, 6, 7, 6])"
            ]
          },
          "metadata": {},
          "execution_count": 16
        }
      ]
    },
    {
      "cell_type": "code",
      "source": [
        "vector.reshape(-1, 1)"
      ],
      "metadata": {
        "colab": {
          "base_uri": "https://localhost:8080/"
        },
        "id": "RMFqJwrYnj7z",
        "outputId": "b49962e6-68f0-465a-e385-c81980ddc835"
      },
      "execution_count": null,
      "outputs": [
        {
          "output_type": "execute_result",
          "data": {
            "text/plain": [
              "array([[3],\n",
              "       [4],\n",
              "       [6],\n",
              "       [7],\n",
              "       [6]])"
            ]
          },
          "metadata": {},
          "execution_count": 17
        }
      ]
    },
    {
      "cell_type": "code",
      "source": [
        "#몇가지 특별한 벡터. = 영벡터와 일벡터\n",
        "# 벡터인데 모든 원소가 0이거나 1인 경우\n",
        "display(np.zeros((4,1)) )\n",
        "display(np.ones((4,1)) )"
      ],
      "metadata": {
        "colab": {
          "base_uri": "https://localhost:8080/",
          "height": 156
        },
        "id": "EuailiU9nm03",
        "outputId": "8305c2d3-c806-422d-ba2f-dc3253421d0b"
      },
      "execution_count": null,
      "outputs": [
        {
          "output_type": "display_data",
          "data": {
            "text/plain": [
              "array([[0.],\n",
              "       [0.],\n",
              "       [0.],\n",
              "       [0.]])"
            ]
          },
          "metadata": {}
        },
        {
          "output_type": "display_data",
          "data": {
            "text/plain": [
              "array([[1.],\n",
              "       [1.],\n",
              "       [1.],\n",
              "       [1.]])"
            ]
          },
          "metadata": {}
        }
      ]
    },
    {
      "cell_type": "markdown",
      "source": [
        "### 행렬(Matrix)\n",
        "- 여러개의 벡터가 모여서 행렬을 이루게 된다.\n",
        "- 행이 n개이고, 열이 m개인 배열을 행령이라고 보면 된다.\n"
      ],
      "metadata": {
        "id": "cvue84XGoEH8"
      }
    },
    {
      "cell_type": "code",
      "source": [
        "mat = np.random.randint(1, 10, size=(3, 5) )\n",
        "mat"
      ],
      "metadata": {
        "colab": {
          "base_uri": "https://localhost:8080/"
        },
        "id": "B83kjTSzoLg3",
        "outputId": "75405ad3-54dd-481a-a5eb-e33f7aff1e54"
      },
      "execution_count": null,
      "outputs": [
        {
          "output_type": "execute_result",
          "data": {
            "text/plain": [
              "array([[9, 9, 7, 5, 2],\n",
              "       [8, 4, 5, 8, 4],\n",
              "       [4, 7, 3, 9, 7]])"
            ]
          },
          "metadata": {},
          "execution_count": 22
        }
      ]
    },
    {
      "cell_type": "markdown",
      "source": [
        "## 타입이 다른 피연산자간의 연산\n",
        "    - 내적이라거나 외적이라거나 그런 건 안 다룸..\n",
        "- 일반적인 사칙연산만 다룰 것\n",
        "- 배열 타입과 배열타입의 사칙연산이 가능\n",
        "- 크기가 서로 같기만 하다면, 문제가 없는데\n",
        "- 크기가 다른 경우에는 문제가 된다.\n",
        "  - 브로드캐스팅이 되는 경우와 그렇지 않은 경우로 보면 됨\n"
      ],
      "metadata": {
        "id": "e3YAzCr4pGZW"
      }
    },
    {
      "cell_type": "code",
      "source": [
        "# 스칼라와 벡터의 연산\n",
        "# 작은 쪽의 크기를 큰 쪽의 크기에 맞춰서 확장(브로드캐스팅)\n",
        "# 같은 위치의 값들끼리 연산\n",
        "vector = np.random.randint(1, 10, size = (4, 1) )\n",
        "vector"
      ],
      "metadata": {
        "colab": {
          "base_uri": "https://localhost:8080/"
        },
        "id": "mQt1CGGrnw0d",
        "outputId": "5b7d0066-4c51-4932-ad59-225ddbd8d88a"
      },
      "execution_count": null,
      "outputs": [
        {
          "output_type": "execute_result",
          "data": {
            "text/plain": [
              "array([[2],\n",
              "       [6],\n",
              "       [6],\n",
              "       [5]])"
            ]
          },
          "metadata": {},
          "execution_count": 28
        }
      ]
    },
    {
      "cell_type": "code",
      "source": [
        "# 스칼라를 연산하려는 벡터의 크기에 맞춰서 확장\n",
        "2 * vector\n",
        "# 2를 벡터의 크기에 맞춰서 [2 로 만들어서 곱해준다는 뜻\n",
        "#                         2\n",
        "#                         2\n",
        "#                         2]"
      ],
      "metadata": {
        "colab": {
          "base_uri": "https://localhost:8080/"
        },
        "id": "0msJJkJGpfmH",
        "outputId": "fc74846e-0c31-403a-f503-fa2b550f870a"
      },
      "execution_count": null,
      "outputs": [
        {
          "output_type": "execute_result",
          "data": {
            "text/plain": [
              "array([[ 4],\n",
              "       [12],\n",
              "       [12],\n",
              "       [10]])"
            ]
          },
          "metadata": {},
          "execution_count": 29
        }
      ]
    },
    {
      "cell_type": "code",
      "source": [
        "# 스칼라와 행렬의 연산\n",
        "# 마찬가지로 브로드캐스팅 후에 같은 위치끼리 연산\n",
        "mat = np.random.randint(1, 10, size=(3, 4))\n",
        "mat"
      ],
      "metadata": {
        "colab": {
          "base_uri": "https://localhost:8080/"
        },
        "id": "gWG_gD6Ipx4Y",
        "outputId": "885136e7-4e5b-4605-eed2-72249fb05d52"
      },
      "execution_count": null,
      "outputs": [
        {
          "output_type": "execute_result",
          "data": {
            "text/plain": [
              "array([[8, 2, 6, 8],\n",
              "       [1, 8, 8, 5],\n",
              "       [2, 3, 7, 2]])"
            ]
          },
          "metadata": {},
          "execution_count": 30
        }
      ]
    },
    {
      "cell_type": "code",
      "source": [
        "2 * mat"
      ],
      "metadata": {
        "colab": {
          "base_uri": "https://localhost:8080/"
        },
        "id": "2Xi78oAZq0Vb",
        "outputId": "26f00194-d758-4044-b6ea-7f6227638bf1"
      },
      "execution_count": null,
      "outputs": [
        {
          "output_type": "execute_result",
          "data": {
            "text/plain": [
              "array([[16,  4, 12, 16],\n",
              "       [ 2, 16, 16, 10],\n",
              "       [ 4,  6, 14,  4]])"
            ]
          },
          "metadata": {},
          "execution_count": 31
        }
      ]
    },
    {
      "cell_type": "code",
      "source": [
        ""
      ],
      "metadata": {
        "id": "ozH4v8XLq2lO"
      },
      "execution_count": null,
      "outputs": []
    },
    {
      "cell_type": "code",
      "source": [
        "# 벡터와 행렬의 연산\n",
        "# 벡터가 행렬의 크기에 맞춰서 브로드캐스팅이 가능하면 연산이 가능\n",
        "display(vector)\n",
        "display(mat)"
      ],
      "metadata": {
        "colab": {
          "base_uri": "https://localhost:8080/",
          "height": 139
        },
        "id": "iUwizFbTtdGB",
        "outputId": "fb4e0537-ce76-40a8-f4bb-2a46c7fd6395"
      },
      "execution_count": null,
      "outputs": [
        {
          "output_type": "display_data",
          "data": {
            "text/plain": [
              "array([[1],\n",
              "       [3],\n",
              "       [2],\n",
              "       [9]])"
            ]
          },
          "metadata": {}
        },
        {
          "output_type": "display_data",
          "data": {
            "text/plain": [
              "array([[9, 9, 5, 9],\n",
              "       [2, 9, 3, 1],\n",
              "       [9, 6, 1, 9]])"
            ]
          },
          "metadata": {}
        }
      ]
    },
    {
      "cell_type": "code",
      "source": [
        "vector * mat"
      ],
      "metadata": {
        "colab": {
          "base_uri": "https://localhost:8080/",
          "height": 166
        },
        "id": "8kO84grStpBx",
        "outputId": "ec6ddbbf-b0cf-498f-8a5a-ae4e48a0f9f0"
      },
      "execution_count": null,
      "outputs": [
        {
          "output_type": "error",
          "ename": "ValueError",
          "evalue": "ignored",
          "traceback": [
            "\u001b[0;31m---------------------------------------------------------------------------\u001b[0m",
            "\u001b[0;31mValueError\u001b[0m                                Traceback (most recent call last)",
            "\u001b[0;32m<ipython-input-28-faea8dd88a01>\u001b[0m in \u001b[0;36m<module>\u001b[0;34m()\u001b[0m\n\u001b[0;32m----> 1\u001b[0;31m \u001b[0mvector\u001b[0m \u001b[0;34m*\u001b[0m \u001b[0mmat\u001b[0m\u001b[0;34m\u001b[0m\u001b[0;34m\u001b[0m\u001b[0m\n\u001b[0m",
            "\u001b[0;31mValueError\u001b[0m: operands could not be broadcast together with shapes (4,1) (3,4) "
          ]
        }
      ]
    },
    {
      "cell_type": "code",
      "source": [
        "vector = np.random.randint(1, 10, size=(3,1))\n",
        "vector"
      ],
      "metadata": {
        "colab": {
          "base_uri": "https://localhost:8080/"
        },
        "id": "vGcjpmGjtvzT",
        "outputId": "8c2a92a0-1fcb-4cca-ad10-6a759fb6cbc2"
      },
      "execution_count": null,
      "outputs": [
        {
          "output_type": "execute_result",
          "data": {
            "text/plain": [
              "array([[9],\n",
              "       [2],\n",
              "       [3]])"
            ]
          },
          "metadata": {},
          "execution_count": 30
        }
      ]
    },
    {
      "cell_type": "code",
      "source": [
        "vector * mat"
      ],
      "metadata": {
        "colab": {
          "base_uri": "https://localhost:8080/"
        },
        "id": "DD3_n8jlt2FA",
        "outputId": "c1203634-6ea8-4aab-c358-9c5ec353524b"
      },
      "execution_count": null,
      "outputs": [
        {
          "output_type": "execute_result",
          "data": {
            "text/plain": [
              "array([[81, 81, 45, 81],\n",
              "       [ 4, 18,  6,  2],\n",
              "       [27, 18,  3, 27]])"
            ]
          },
          "metadata": {},
          "execution_count": 31
        }
      ]
    },
    {
      "cell_type": "code",
      "source": [
        "# 벡터와 벡터의 연산은 브로드캐스팅이 되지 않기 때문에, 크기가 반드시 같아야 합니다.\n",
        "vec1 = np.random.randint(1, 10, size=(3, 1))\n",
        "vec2 = np.random.randint(1, 10, size=(4, 1))\n",
        "display( vec1, vec2 )"
      ],
      "metadata": {
        "colab": {
          "base_uri": "https://localhost:8080/",
          "height": 139
        },
        "id": "MNREmiqhuCtM",
        "outputId": "63266957-a9b5-4496-fd0f-a34b17a31e73"
      },
      "execution_count": null,
      "outputs": [
        {
          "output_type": "display_data",
          "data": {
            "text/plain": [
              "array([[4],\n",
              "       [8],\n",
              "       [5]])"
            ]
          },
          "metadata": {}
        },
        {
          "output_type": "display_data",
          "data": {
            "text/plain": [
              "array([[2],\n",
              "       [9],\n",
              "       [8],\n",
              "       [5]])"
            ]
          },
          "metadata": {}
        }
      ]
    },
    {
      "cell_type": "code",
      "source": [
        "vec1 * vec2"
      ],
      "metadata": {
        "colab": {
          "base_uri": "https://localhost:8080/",
          "height": 166
        },
        "id": "feaXpAAiuRoi",
        "outputId": "e2c10e60-1cce-4522-c151-40887b31f41d"
      },
      "execution_count": null,
      "outputs": [
        {
          "output_type": "error",
          "ename": "ValueError",
          "evalue": "ignored",
          "traceback": [
            "\u001b[0;31m---------------------------------------------------------------------------\u001b[0m",
            "\u001b[0;31mValueError\u001b[0m                                Traceback (most recent call last)",
            "\u001b[0;32m<ipython-input-33-8af11b931293>\u001b[0m in \u001b[0;36m<module>\u001b[0;34m()\u001b[0m\n\u001b[0;32m----> 1\u001b[0;31m \u001b[0mvec1\u001b[0m \u001b[0;34m*\u001b[0m \u001b[0mvec2\u001b[0m\u001b[0;34m\u001b[0m\u001b[0;34m\u001b[0m\u001b[0m\n\u001b[0m",
            "\u001b[0;31mValueError\u001b[0m: operands could not be broadcast together with shapes (3,1) (4,1) "
          ]
        }
      ]
    },
    {
      "cell_type": "code",
      "source": [
        "# 크기가 같다면, 연산이 가능합니다. \n",
        "vec1 = np.random.randint(1, 10, size=(3, 1))\n",
        "vec2 = np.random.randint(1, 10, size=(3, 1))\n",
        "display( vec1, vec2 )"
      ],
      "metadata": {
        "colab": {
          "base_uri": "https://localhost:8080/",
          "height": 121
        },
        "id": "ixM0igY0uVyK",
        "outputId": "527d210a-3f04-44ff-9a4f-1a8f1e90a606"
      },
      "execution_count": null,
      "outputs": [
        {
          "output_type": "display_data",
          "data": {
            "text/plain": [
              "array([[4],\n",
              "       [7],\n",
              "       [8]])"
            ]
          },
          "metadata": {}
        },
        {
          "output_type": "display_data",
          "data": {
            "text/plain": [
              "array([[7],\n",
              "       [3],\n",
              "       [9]])"
            ]
          },
          "metadata": {}
        }
      ]
    },
    {
      "cell_type": "code",
      "source": [
        "vec1 * vec2"
      ],
      "metadata": {
        "id": "CBAqrebGuZPI",
        "outputId": "eb45d394-5c09-417b-ecf0-cf37215d6e43",
        "colab": {
          "base_uri": "https://localhost:8080/"
        }
      },
      "execution_count": null,
      "outputs": [
        {
          "output_type": "execute_result",
          "data": {
            "text/plain": [
              "array([[28],\n",
              "       [21],\n",
              "       [72]])"
            ]
          },
          "metadata": {},
          "execution_count": 35
        }
      ]
    },
    {
      "cell_type": "code",
      "source": [
        "# 행렬과 행렬의 연산\n",
        "# 차원이 같으면, 벡터와 마찬가지로 브로드 캐스팅 되지 않는다.\n",
        "# 차원이 다르면, 저차원 행령이 고차원의 행렬로 브로드캐스팅 가능하면 연산이 가능\n",
        "# 같은 차원이라면, 반드시 두 행렬의 크기가 같아야 한다.\n",
        "mat1 = np.random.randint(1, 10, size=(2, 2) )\n",
        "mat2 = np.random.randint(1, 10, size=(2, 2) )\n",
        "display(mat1, mat2)"
      ],
      "metadata": {
        "id": "A7dkMz31ucBZ",
        "colab": {
          "base_uri": "https://localhost:8080/",
          "height": 86
        },
        "outputId": "f2ce4f48-f9d8-4bb3-d287-73d2ed2d5bed"
      },
      "execution_count": null,
      "outputs": [
        {
          "output_type": "display_data",
          "data": {
            "text/plain": [
              "array([[1, 9],\n",
              "       [7, 7]])"
            ]
          },
          "metadata": {}
        },
        {
          "output_type": "display_data",
          "data": {
            "text/plain": [
              "array([[3, 2],\n",
              "       [7, 1]])"
            ]
          },
          "metadata": {}
        }
      ]
    },
    {
      "cell_type": "code",
      "source": [
        "mat1 * mat2"
      ],
      "metadata": {
        "colab": {
          "base_uri": "https://localhost:8080/"
        },
        "id": "tUAazKLovJU1",
        "outputId": "5aa87600-2dd6-4f82-c6ee-424173bbacc8"
      },
      "execution_count": null,
      "outputs": [
        {
          "output_type": "execute_result",
          "data": {
            "text/plain": [
              "array([[ 3, 18],\n",
              "       [49,  7]])"
            ]
          },
          "metadata": {},
          "execution_count": 33
        }
      ]
    },
    {
      "cell_type": "code",
      "source": [
        ""
      ],
      "metadata": {
        "id": "vRRupY_uvKni"
      },
      "execution_count": null,
      "outputs": []
    }
  ]
}